{
 "cells": [
  {
   "cell_type": "code",
   "execution_count": 4,
   "metadata": {},
   "outputs": [],
   "source": [
    "\n",
    "from indeed_test3 import *\n",
    "from neuvoo_test2 import *\n",
    "import threading\n",
    "import time\n",
    "\n",
    "#query = input(\"Enter job title: \")\n",
    "#location = input(\"Enter job location: \")\n",
    "#page_offset = input(\"Enter page no: \")\n",
    "\n",
    "#indeed_dataset\n",
    "total_job_count = 0\n",
    "#temp_job_dataset = []\n",
    "\n",
    "job_dataset = []\n",
    "\n",
    "def get_job_dataset(c_query, c_location, c_page_offset):\n",
    "    global total_job_count,job_dataset\n",
    "    start_time = time.time()\n",
    "    total_job_count = 0\n",
    "    job_dataset.clear()\n",
    "    #indeed.com collector\n",
    "    def thread_indeed():\n",
    "        global total_job_count, job_dataset\n",
    "        indeed_j_count, indeed_job_dataset  = scrape_indeed(c_query, c_location, c_page_offset)\n",
    "        job_dataset = job_dataset + indeed_job_dataset\n",
    "        total_job_count = total_job_count + int(indeed_j_count)\n",
    "    \n",
    "\n",
    "    #neuvoo.co.in collector\n",
    "    def thread_neuvoo():\n",
    "        global total_job_count, job_dataset\n",
    "        neuvoo_j_count, neuvoo_job_dataset = scrape_neuvoo(c_query, c_location, c_page_offset)\n",
    "        job_dataset = job_dataset + neuvoo_job_dataset\n",
    "        total_job_count = total_job_count + int(neuvoo_j_count)\n",
    "    \n",
    "    t1 = threading.Thread(target = thread_indeed )\n",
    "    t2 = threading.Thread(target = thread_neuvoo )\n",
    "   \n",
    "    t1.start()\n",
    "    t2.start()\n",
    "    t1.join()\n",
    "    t2.join()\n",
    "\n",
    " \n",
    "    end_time = time.time()\n",
    "    print(\"Time: \", (end_time - start_time))\n",
    "    #print(\"Total jobs: \",len(neuvoo_job_dataset)+len(indeed_job_dataset))\n",
    "    return job_dataset\n",
    "\n",
    "\n",
    "#get_job_dataset(query, location, page_offset)\n",
    "#print(job_dataset)\n",
    "\n"
   ]
  },
  {
   "cell_type": "code",
   "execution_count": 5,
   "metadata": {},
   "outputs": [
    {
     "name": "stdout",
     "output_type": "stream",
     "text": [
      "Time:  4.600006341934204\n"
     ]
    }
   ],
   "source": [
    "res = get_job_dataset('software engineer','pune','2')"
   ]
  },
  {
   "cell_type": "code",
   "execution_count": 6,
   "metadata": {},
   "outputs": [
    {
     "data": {
      "text/plain": [
       "['{\"title\": \"Engineer - Systems\", \"link\": \"https://www.indeed.co.in/pagead/clk?mo=r&ad=-6NYlbfkN0CQkd0aXOMKDnIWk91QyF7DOSSSuAzRwL7iXPtHgwrgYuJgyE6-p8UD9JR3fPxw1OSovdlK9Dkq6QFHnvoRW9Li_aGXgaXupjv2Von2dqCMz08O6pRBLSDfC_3gyZ6vczxWtkkUsn61fzeguF0SrD4BOcvc6TODswyDn1N4XRbqynOi8tP_0G6m-35Y3i3jVNLQEnHIGY7xxA19iu2yb5snAZWOHzL41wuutcB28yibEHBjmxX3L5uh8gEz0p6KpeKtAf7lpz-yfGJwsBj3x6f1h3Ophf97FFMYELanqX1eqG7mRC05CpLS0jYk78dhArfXKS4_fAJaMVXq2ln9gbsZbEsD9087lUW-LFyhhc5FcqzZ4pwP--LRzn0nb0Xwtrwa_IkBQMB6ujgHqbSr5f41dv6rpkJHXSYb9tEcOt_WFm9s8JXb3jMaB6Fjf6WN84Ev3-vgYKpL-NpqMO4nOSVvZKDSVssdZX-c8xCIzXjhepYNv7Jtgdr-FBS9Z3d3c4B5nzVqMTL-UntovxUazHL7-8GxPKshFhY=&vjs=3&p=1&sk=&fvj=0\", \"employer\": \"FIS Global\", \"address\": \"Pune, Maharashtra\", \"description\": \"Ability to troubleshoot and fix basic issues a must. Monitoring the database processes and application server logs for any failures or performance issues....\", \"sponsored\": true, \"dateposted\": \"\", \"trusted\": false, \"rating\": \"3.500\", \"salary\": \"\"}',\n",
       " '{\"title\": \"Appian technologies \\\\u2013 Senior Software Engineer\", \"link\": \"https://www.indeed.co.in/pagead/clk?mo=r&ad=-6NYlbfkN0D35pONiEzCV0HOA1LSj07MBrUNmnAaSWLsWvroqamMmipBrGsenrpGpf-AZi0kyzmOg7DkOtQGGZ4UxtbI8CgLXF93G0oqKQvJ3gaOnkt8Kd8WEC1hXdjAMGKaEamLEqAmlvHlvUFNRihUhIlW_6N9crwrn5TgzZSDPg8gIuSR0C46pE2kjhZ9rMk0GLqNzmUgezUP027POxzp-ek8TfJmWK7B5pE-jyvOQSlfcTI0V8y84SVRw_9jVd8agkGjeQNvNDCRVU5B2XZRIMTkAyyg8Qn5IzKEvp4XNdViMiQYBJHOqT-wBuJg1QCilYhdiuc2VVqsw9LI723L6NMEHi5zdZWiWJFpj8vP4OzLhnPC3zIgCb7SClEZfZ1dWdkkH0T-wHquavylgvjQXQud7ympkTiGcE9fT_WZcmoL4wbGAxJZ-J_9uhxL8axdf7xVCDfMpLThBHobJ1gE9Ah96BO583jVfoCK15IrNfC_yGMs3wraggZWsuyzWY50e8A9sVbXCujwtsY5YQ==&vjs=3&p=2&sk=&fvj=0\", \"employer\": \"Mphasis\", \"address\": \"Pune, Maharashtra\", \"description\": \"Ability to do the peer review, test and document the solutions. We are looking for applicants who will thrive in an open, dynamic, flexible, collaborative...\", \"sponsored\": true, \"dateposted\": \"\", \"trusted\": false, \"rating\": \"3.583\", \"salary\": \"\"}',\n",
       " '{\"title\": \"Software Engineer (Cloudsense CPQ)\", \"link\": \"https://www.indeed.co.in/pagead/clk?mo=r&ad=-6NYlbfkN0CdG0mlcq8sM0kM4Z0XjE22y1IvS4TfdSBI7lJNBQS5z1LsBSOvMAKpLzd1lFvxetgeJgWy4jc2bzIexXZtHNub9FwPG8E_91HM2zaJsHiwDsS98EAS9MDxZShOWiDyXUfpVNQgvNKJb-Mj6fpUDNmBUI8nsx-bGFfOrmTcif4R9k5AX5qRShIt-9r_u-VehbZnJhzrxztDTvTyb143r8ZgDcEHr9UQDsL57GcC1RQzvQYiEoUO8lwh_VimziAN3Smxre1Q6VkY6CSr5GgPiq8HoIrL17Ymj1p09vFs-2hgYgxOo-_EkrALNaJYbFDOHH8nToccXlIL_eJKxr4-dJUK1t1PTupn1GQEJ4QDFyPb6rIVD1SjDEJktk_PY8TGoGnfCVbkFuASihgbZeeeSkiZgLc2zbqv66WfefXe01695EywFxuu-mutGDZQ-ZOfg4x3yPrLSe7Xdivb3b2W-XKArg0uxeAijRahBKgb1l_KYGWkIq9s4to7&vjs=3&p=3&sk=&fvj=0\", \"employer\": \"Telstra\", \"address\": \"Pune, Maharashtra\", \"description\": \"Ability to design and develop Salesforce CRM & Force.com Applications. 3 -6 yrs. This individual will apply proven industry and technology experience as well as...\", \"sponsored\": true, \"dateposted\": \"\", \"trusted\": false, \"rating\": \"4.250\", \"salary\": \"\"}',\n",
       " '{\"title\": \"Software Developer\", \"link\": \"https://www.indeed.co.in/company/Bereej-Technologies/jobs/Software-Developer-47fb0b3aadfbe582?fccid=c3ed45d66e6abcd6&vjs=3\", \"employer\": \"Bereej Technologies\", \"address\": \"Pune, Maharashtra\", \"description\": \"3 years (Preferred). Great learning environment. Basic knowledge on SQLs, performance tuning (especially on SQL Server Db and Oracle Db)....\", \"sponsored\": false, \"dateposted\": \"19 hours ago\", \"trusted\": false, \"rating\": \"\", \"salary\": \"\\\\u20b930,000 - \\\\u20b960,000 a month\"}',\n",
       " '{\"title\": \"Software Engineer\", \"link\": \"https://www.indeed.co.in/company/Tricosys-Solutions-Pvt.-Ltd./jobs/Software-Engineer-07bf7ef0da0f3678?fccid=7a38fc8af56b2d6f&vjs=3\", \"employer\": \"Tricosys Solutions Pvt. Ltd.\", \"address\": \"Pune, Maharashtra\", \"description\": \"Experience- 1 \\\\u2013 3 years of Wordpress development experience. _- Ability to understand CSS changes and their ramifications to ensure consistent style...\", \"sponsored\": false, \"dateposted\": \"16 days ago\", \"trusted\": false, \"rating\": \"\", \"salary\": \"\\\\u20b91,20,000 - \\\\u20b92,40,000 a year\"}',\n",
       " '{\"title\": \"Software Engineer/RBWM Technology\", \"link\": \"https://www.indeed.co.in/rc/clk?jk=b410fe162d2cb12d&fccid=04c9b139c84ea1b5&vjs=3\", \"employer\": \"HSBC\", \"address\": \"Pune, Maharashtra\", \"description\": \"Hands on experience in large scale SOA design, development, and deployment. Demonstrated ability to develop complex conversion and system implementation plans....\", \"sponsored\": false, \"dateposted\": \"1 day ago\", \"trusted\": false, \"rating\": \"4.250\", \"salary\": \"\"}',\n",
       " '{\"title\": \"Software Maintenance Engineer - Ceph\", \"link\": \"https://www.indeed.co.in/rc/clk?jk=03c624cad423bcb0&fccid=e24a60f01d1882d1&vjs=3\", \"employer\": \"Red Hat, Inc.\", \"address\": \"Pune, Maharashtra\", \"description\": \"Ability to read and understand complex multi-threaded kernel and user space code and relate it back to customer issues....\", \"sponsored\": false, \"dateposted\": \"2 days ago\", \"trusted\": false, \"rating\": \"4.250\", \"salary\": \"\"}',\n",
       " '{\"title\": \"Trainee Software Engineer\", \"link\": \"https://www.indeed.co.in/rc/clk?jk=8457940d7625b7e7&fccid=04c9b139c84ea1b5&vjs=3\", \"employer\": \"HSBC\", \"address\": \"Pune, Maharashtra\", \"description\": \"Trainee Software Engineer. Problem-solvers who have the ability to tackle complex challenges in a structured and analytical way, using data and logic to come up...\", \"sponsored\": false, \"dateposted\": \"10 days ago\", \"trusted\": false, \"rating\": \"4.250\", \"salary\": \"\"}',\n",
       " '{\"title\": \"Design Engineer\", \"link\": \"https://www.indeed.co.in/company/Exltech-Pvt.-Ltd./jobs/Design-Engineer-d0af4ff1dab5f86d?fccid=c21fef46ef51e419&vjs=3\", \"employer\": \"s.s designers & planners\", \"address\": \"Pune, Maharashtra\", \"description\": \"Using computer-aided design (CAD) and computer-assisted engineering (CAE) software to create prototypes. A creative flair and design ability....\", \"sponsored\": false, \"dateposted\": \"2 hours ago\", \"trusted\": false, \"rating\": \"\", \"salary\": \"\"}',\n",
       " '{\"title\": \"Software Engineer/OSST API\", \"link\": \"https://www.indeed.co.in/rc/clk?jk=007359d5ea4f3af3&fccid=04c9b139c84ea1b5&vjs=3\", \"employer\": \"HSBC\", \"address\": \"Pune, Maharashtra\", \"description\": \"Deployment and management of code in platforms/server. Recognizing and reporting job related issues to management....\", \"sponsored\": false, \"dateposted\": \"20 hours ago\", \"trusted\": false, \"rating\": \"4.250\", \"salary\": \"\"}',\n",
       " '{\"title\": \"Software Engineer\", \"link\": \"https://www.indeed.co.in/company/Virtual-Matic/jobs/Software-Engineer-eab97b00585bcc4d?fccid=3687a5ffe3f7dcef&vjs=3\", \"employer\": \"Virtual Matic\", \"address\": \"Pune, Maharashtra\", \"description\": \"Should have experience as a .NET Developer in a C# environment and MVC. Database knowledge in SQL Server. Knowledge of version control system like TFS or SVN....\", \"sponsored\": false, \"dateposted\": \"21 days ago\", \"trusted\": false, \"rating\": \"\", \"salary\": \"\\\\u20b910,000 - \\\\u20b918,000 a month\"}',\n",
       " '{\"title\": \"Software Engineer\", \"link\": \"https://www.indeed.co.in/rc/clk?jk=88a243ebeccd6318&fccid=105ecfd0283f415f&vjs=3\", \"employer\": \"Capgemini\", \"address\": \"Pune, Maharashtra\", \"description\": \"At least 5 year of Software Development experience 3 years in Salesforce coding experience is must. Must have experience working on at least 4 implementations...\", \"sponsored\": false, \"dateposted\": \"1 day ago\", \"trusted\": false, \"rating\": \"3.583\", \"salary\": \"\"}',\n",
       " '{\"title\": \"Software Engineer (Developer)\", \"link\": \"https://www.indeed.co.in/company/keywordio-International-Limited/jobs/Software-Engineer-fd5e0afeaaf0145c?fccid=a4768111e32b86d1&vjs=3\", \"employer\": \"www.keywordio.com\", \"address\": \"Pune, Maharashtra\", \"description\": \"We are looking for Software Engineers who can work closely with designers to implement and maintain our web app....\", \"sponsored\": false, \"dateposted\": \"3 days ago\", \"trusted\": false, \"rating\": \"\", \"salary\": \"\"}',\n",
       " '{\"title\": \"Software Engineer (Appttus CLM Experience)\", \"link\": \"https://www.indeed.co.in/pagead/clk?mo=r&ad=-6NYlbfkN0CdG0mlcq8sM0kM4Z0XjE22y1IvS4TfdSBI7lJNBQS5z1LsBSOvMAKpLzd1lFvxetgeJgWy4jc2b5-bdwmFpeS53dMa_9_HmcakLTcfdxiTQ8XdQoOWK2hGWanUeX4dwd24ycCjct-FUAB9vN2h8AtjWsdjQPCd1jlqzme3GqbLd4bQFfyB04zxpVNv9FQn_lB34G7Dp3WZm1uWCtRYWbDxVvAPNjCsQiAQsOHCmaq76a-JWwhxmREE8jN55Tt5E70KdCsgC1-TAzC3YziFZ774pr91iNYy3gS4IcF2jlSts9cyJJ8tAVJ3nBXbQKTSLAWt8oaQ5GPH_qF63hCK1B0VTuCgsszC6aYMqibbpIkdiU4zqzCh_N5Ge6aEFsWhvyo9s2LSA2mFOUJ7eZq0hZGd5tE4QQNzLOUddrd2SzguBDeY8IY2uXXrK07x2d1SLED_qsgmDwYbHxlps9vhCWXWqH4iTb6ILy6pUP5ELFvcOj4gvyM2u4__JWHrpnId4hk=&vjs=3&p=4&sk=&fvj=0\", \"employer\": \"Telstra\", \"address\": \"Pune, Maharashtra\", \"description\": \"Ability to design and develop Salesforce CRM & Force.com Applications. 3 \\\\u2013 5 yrs. This individual will apply proven industry and technology experience as well...\", \"sponsored\": true, \"dateposted\": \"\", \"trusted\": false, \"rating\": \"4.250\", \"salary\": \"\"}',\n",
       " '{\"title\": \"Software Engineer (CPQ, Cloudsense)\", \"link\": \"https://www.indeed.co.in/pagead/clk?mo=r&ad=-6NYlbfkN0CdG0mlcq8sM0kM4Z0XjE22y1IvS4TfdSBI7lJNBQS5z1LsBSOvMAKpLzd1lFvxetgeJgWy4jc2bwPqBVLTI9mMlPreumeWOBWQzyRPPZeyzKXMWz1FvSDnlA3PpuHtTN0JIx35rCxwFxRqbKB0wmkFR00TEUdGMCEcMzePfG1loxL-jI4IiYFOli0UWmqSKC1n8mA-_d_fXcRj00Bpsb-er1rjnsPNHycEZAp7wCTmohbswDCsI70695IiLzNSJmANyiM3kE7B8hb_vRB7pqg-xovJEHqa9zIWwvdVbt9pAleMv1uDRV45GGDV-NgirSOdY-YmYwldR2az28d1RAq5KJwGS1NdFNUwuDQ_N9ZD4lJB3AYwZTkaCwJp8eM2H3eWujBs7faSMqxrd4m2d1u4fXNOvxJNEBQCSa3A011r79dgiGO7JMhS73VQjMY1V6RGp_LZaqVs5HmA7KSakShNQcst9igdepntBIr2kTwsMELUKb3znDtk&vjs=3&p=5&sk=&fvj=0\", \"employer\": \"Telstra\", \"address\": \"Pune, Maharashtra\", \"description\": \"Ability to design and develop Salesforce CRM & Force.com Applications. This individual will apply proven industry and technology experience as well as...\", \"sponsored\": true, \"dateposted\": \"\", \"trusted\": false, \"rating\": \"4.250\", \"salary\": \"\"}',\n",
       " '{\"title\": \"Senior Software Engineer\", \"link\": \"https://www.indeed.co.in/pagead/clk?mo=r&ad=-6NYlbfkN0D35pONiEzCV0HOA1LSj07MBrUNmnAaSWLsWvroqamMmipBrGsenrpGpf-AZi0kyzmgJPYGcUf-d9fFStSPfTPOJhlbs6vbb0U0O4tvhK4TuJ52CuWjp3f2cLjEoimdow-9xs34uCUkp11gUAULpMhEcGursfiWGJt2FAVupqeY4eGmZ1vLEKR1okzyWl5b71Gk-dYv-7A91cizJ2cdaKyUb2lnywfHUNx4kwCpivWnKNkHhGBfAxoyaiOG-GPSlqD5ldRD7njNzLaO6lkD5iai678bZUPFQkRkksWBmalkS1ZzXwRI33GZ8tEKZ1pjbx5uWY6iG5La-GMnesutwz_248oAr1H_VoVOMZX4R4NgbybkWzIecewpraVEKyqZC8-XMtHypjeLpBVWkl9HVrGb5d85Z399D6Gh74xjHi0JUDvQClqjn-F_SUc0M_G0-crhzG5nIFx7ZhGHhKQxXhO_4g31PfB2X0Xt9OwCsbkbbEngmNGZ6EXlByZrEpH-UPE=&vjs=3&p=6&sk=&fvj=0\", \"employer\": \"Mphasis\", \"address\": \"Pune, Maharashtra\", \"description\": \"Should know the production services tools & governance processes like incident management, problem management, change management etc....\", \"sponsored\": true, \"dateposted\": \"21 hours ago\", \"trusted\": false, \"rating\": \"3.583\", \"salary\": \"\"}',\n",
       " '{\"title\": \"Senior Software Engineer\", \"link\": \"https://neuvoo.co.in/job.php?&jpos=1&jp=2&nb=a&id=rp4i3ha68z&lang=en&k=software+engineer\", \"employer\": \"Ciena Corporation \", \"address\": \"Pune, Maharashtra\", \"description\": \"Position Description. The Senior Software Engineer will join our group of routing experts and architects... Proficiency in C. Significant experience in STL and designing developing large software systems in Linux...\", \"dateposted\": \" - 8d ago \"}',\n",
       " '{\"title\": \"Senior System Software Engineer\", \"link\": \"https://neuvoo.co.in/job.php?&jpos=2&jp=2&nb=a&id=abe9d5f5acea&lang=en&k=software+engineer\", \"employer\": \"NVIDIA Corporation \", \"address\": \"Pune, Maharashtra\", \"description\": \"We are looking for Senior Systems Software Engineer. Are you interested in robots, smart cities, and... Do you have a proven record leading software projects from high level goals all the way down to hardware...\", \"dateposted\": \" - 20d ago \"}',\n",
       " '{\"title\": \"Senior Software Engineer\", \"link\": \"https://neuvoo.co.in/job.php?&jpos=3&jp=2&nb=a&id=05ea5988f228&lang=en&k=software+engineer\", \"employer\": \"Autodesk \", \"address\": \"Pune, Maharashtra\", \"description\": \"Senior Software Engineer19WD31524Asia Pacific India Maharashtra PuneSenior Software EnigneerLocation... Pune. IndiaJob ID. 19WD31524 Position Overview Do you love to develop software for users. Are you...\", \"dateposted\": \" - 4d ago \"}',\n",
       " '{\"title\": \"Sr Software Engineer\", \"link\": \"https://neuvoo.co.in/job.php?&jpos=4&jp=2&nb=a&id=e483d77ab653&lang=en&k=software+engineer\", \"employer\": \"ACI Payment Systems \", \"address\": \"Pune, Maharashtra\", \"description\": \"As a. Senior Software Engineer. in. Pune, y oucan help make possibilities happen. Summary. Participates... Participates inplanning, designing, developing and testing software systems or applicationsfor software...\", \"dateposted\": \" - 16d ago \"}',\n",
       " '{\"title\": \"Software Engineer\", \"link\": \"https://neuvoo.co.in/job.php?&jpos=5&jp=2&nb=a&id=ab2c8f6e1b12&lang=en&k=software+engineer\", \"employer\": \"Emerson \", \"address\": \"Pune, Maharashtra\", \"description\": \"Test software in accordance with FIELDVUE engineering processes and standards using manual test... Develop, enhance, and maintain tools and software for FIELDVUE instrument products and technologies...\", \"dateposted\": \" - 20d ago \"}',\n",
       " '{\"title\": \"Software Engineer\", \"link\": \"https://neuvoo.co.in/job.php?&jpos=6&jp=2&nb=a&id=cjyv5kh7hd&lang=en&k=software+engineer\", \"employer\": \"SAS Institute Inc. \", \"address\": \"Pune, Maharashtra\", \"description\": \"A SAS Company, offers industry leading pricing and revenue management Software, Services, and Consulting... Do you qualify. You must have. At least Bachelor\\'s degree in mathematics, engineering or computer...\", \"dateposted\": \" - 31d ago \"}',\n",
       " '{\"title\": \"Associate Lead Software Engineer\", \"link\": \"https://neuvoo.co.in/job.php?&jpos=7&jp=2&nb=a&id=f31c68c0f1b8&lang=en&k=software+engineer\", \"employer\": \"SailPoint Technologies Holdings, Inc \", \"address\": \"Maharashtra\", \"description\": \"SailPoint is seeking a Software Engineer to help build identity& acess management product. We are... Requirements. 7 10 years of professional software development experience. Strong Java experience...\", \"dateposted\": \" - 22d ago \"}',\n",
       " '{\"title\": \"Software Engineer - Advanced\", \"link\": \"https://neuvoo.co.in/job.php?&jpos=8&jp=2&nb=a&id=751e56c0aac6&lang=en&k=software+engineer\", \"employer\": \"Siemens AG \", \"address\": \"Pune, Maharashtra\", \"description\": \"This may include reacting to customer requirements concerning the security of the software. Candidate... Required education. First Class Bachelor\\'s Master\\'s Degree in Computer Science, Engineering and...\", \"dateposted\": \" - 23d ago \"}',\n",
       " '{\"title\": \"Front End Developer | Senior Software Engineer\", \"link\": \"https://neuvoo.co.in/job.php?&jpos=9&jp=2&nb=a&id=dc37e838f4ac&lang=en&k=software+engineer\", \"employer\": \"HSBC Group \", \"address\": \"Pune, Maharashtra\", \"description\": \"Description. Requirement Reference. Job Code. Department. RBWM. Sub Department. Cards. Contract Duration. Permanent. Expected Start Date. 01 Sept 2018. Role. Senior Software Engineer...\", \"dateposted\": \" - 27d ago \"}',\n",
       " '{\"title\": \"Senior Software Engineer - Big Data\", \"link\": \"https://neuvoo.co.in/job.php?&jpos=10&jp=2&nb=a&id=6e24aecacaeb&lang=en&k=software+engineer\", \"employer\": \"PubMatic, Inc. \", \"address\": \"Pune, Maharashtra\", \"description\": \"Job Description. Job Description. PubMatic BigData Engineering team is responsible for building highly... We are looking for Senior Software Engineer who can design and develop highly scalable and robust...\", \"dateposted\": \" - 28d ago \"}',\n",
       " '{\"title\": \"Senior Software Engineer\", \"link\": \"https://neuvoo.co.in/job.php?&jpos=11&jp=2&nb=a&id=62c9ebce4682&lang=en&k=software+engineer\", \"employer\": \"Plex Systems \", \"address\": \"Pune, Maharashtra\", \"description\": \"Description. Senior Software Engineer. Location. Pune, India. We\\'re on a mission. As a fast growing... In support of our ongoing growth, we are looking for a Senior Software Engineer to help develop our next...\", \"dateposted\": \" - 8d ago \"}',\n",
       " '{\"title\": \"Principal Software Engineer - Java\", \"link\": \"https://neuvoo.co.in/job.php?&jpos=12&jp=2&nb=a&id=7fd51c754881&lang=en&k=software+engineer\", \"employer\": \"Qualys, Inc \", \"address\": \"Pune, Maharashtra\", \"description\": \"We are seeking a talented Principal Software Engineer to work on the Qualys\\' \\\\\"Next generation Platform... Working with a team of engineers and architects, you will be responsible for prototyping, designing...\", \"dateposted\": \" - 27d ago \"}',\n",
       " '{\"title\": \"Senior Software Engineer\", \"link\": \"https://neuvoo.co.in/job.php?&jpos=13&jp=2&nb=a&id=780ddf746f95&lang=en&k=software+engineer\", \"employer\": \"Coupa \", \"address\": \"Pune, Maharashtra\", \"description\": \"Responsibilities. Provide technical leadership to junior, intermediate, and senior level engineers... A self driven individual. Requirements. 10. years of work experience in software development or web...\", \"dateposted\": \" - 3d ago \"}',\n",
       " '{\"title\": \"Software Engineer  Python/Java, NMS\", \"link\": \"https://neuvoo.co.in/job.php?&jpos=14&jp=2&nb=a&id=a02c0b21c900&lang=en&k=software+engineer\", \"employer\": \"Cisco Systems, Inc \", \"address\": \"Pune, Maharashtra\", \"description\": \"What You\\'ll Do. Cisco seeks a Senior Software Engineer to be a part of Cisco Managed Services Group... You will use agile methodologies and cutting edge software technologies to build a software solution...\", \"dateposted\": \" - 16d ago \"}',\n",
       " '{\"title\": \"Java Software Engineer (Backend)\", \"link\": \"https://neuvoo.co.in/job.php?&jpos=15&jp=2&nb=a&id=fbc22b7477f7&lang=en&k=software+engineer\", \"employer\": \"Infobip ltd \", \"address\": \"Pune, Maharashtra\", \"description\": \"As a Software Engineer, you will directly impact the quality of the software we produce, dealing with... More about you. You are a professional with 5. years of experience in solving software problems looking...\", \"dateposted\": \" - 27d ago \"}',\n",
       " '{\"title\": \"Senior Software Applications Engineer\", \"link\": \"https://neuvoo.co.in/job.php?&jpos=16&jp=2&nb=a&id=a9f2b6f3bb22&lang=en&k=software+engineer\", \"employer\": \"Red Hat, Inc. \", \"address\": \"Pune, Maharashtra\", \"description\": \"Job summary. The Red Hat Information Technology (IT) team is looking for a Senior Software Applications... As a Senior Software Applications Engineer, you will frequently provide technical leadership on projects...\", \"dateposted\": \" - 30d ago \"}',\n",
       " '{\"title\": \"C++ Software Engineer\", \"link\": \"https://neuvoo.co.in/job.php?&jpos=17&jp=2&nb=a&id=dddd9347c96b&lang=en&k=software+engineer\", \"employer\": \"Rocket Software, Inc \", \"address\": \"Pune, Maharashtra\", \"description\": \"About Rocket Software. Thousands of companies around the world depend on Rocket to solve their most... About the role. As a Software Engineer, you will be part of Rocket Software\\'s dynamic team of domain...\", \"dateposted\": \" - 8d ago \"}',\n",
       " '{\"title\": \"Senior Software Engineer\", \"link\": \"https://neuvoo.co.in/job.php?&jpos=18&jp=2&nb=a&id=9182abb065bc&lang=en&k=software+engineer\", \"employer\": \"Enterprise jBilling Software Ltd. \", \"address\": \"Pune, Maharashtra\", \"description\": \"About You. We are rapidly expanding and looking to hire talented and ambitious software engineering... Comfort in code reviewing other engineers code and participating in technical designs. 4 6 years...\", \"dateposted\": \" - 2h ago \"}',\n",
       " '{\"title\": \"Software Engineer - Fusion 360\", \"link\": \"https://neuvoo.co.in/job.php?&jpos=19&jp=2&nb=a&id=01c3fdc02809&lang=en&k=software+engineer\", \"employer\": \"Autodesk \", \"address\": \"Pune, Maharashtra\", \"description\": \"Software Engineer. Fusion 36019WD31425Asia Pacific India Maharashtra Pune Fusion 360 Drawings... Autodesk\\'s Fusion 360 product team is creating an integrated software environment to help customers...\", \"dateposted\": \" - 1d ago \"}',\n",
       " '{\"title\": \"Lead Engineer Software Development\", \"link\": \"https://neuvoo.co.in/job.php?&jpos=20&jp=2&nb=a&id=yxr44vjmc4&lang=en&k=software+engineer\", \"employer\": \"Eaton \", \"address\": \"Pune, Maharashtra\", \"description\": \"Job Description. Lead planning, execution and management ofplex software development projects for... Act as lead contact collaborating with and supporting internal and external customers, engineers and...\", \"dateposted\": \" - 24d ago \"}',\n",
       " '{\"title\": \"Software Engineer in Test\", \"link\": \"https://neuvoo.co.in/job.php?&jpos=21&jp=2&nb=a&id=5ebf9f53a413&lang=en&k=software+engineer\", \"employer\": \"Coupa \", \"address\": \"Pune, Maharashtra\", \"description\": \"6 years core development experience as Software Engineer SDET. Strong understanding of computer... Requirements. Establish quality engineering, automation testing, and continuous integration practices...\", \"dateposted\": \" - 3d ago \"}',\n",
       " '{\"title\": \"Software Development Engineer in Test (SDET) - 6 to 9 yrs -Pune\", \"link\": \"https://neuvoo.co.in/job.php?&jpos=22&jp=2&nb=a&id=9dd3c144cc23&lang=en&k=software+engineer\", \"employer\": \"Capgemini \", \"address\": \"Pune, Maharashtra\", \"description\": \"ShortDescription Software Development Engineer in Test (SDET). 6 to 9 yrs. Pune Qualifications Job... Perform and or Lead a team of dedicated tests engineers in different locations performing functional...\", \"dateposted\": \" - 5h ago \"}',\n",
       " '{\"title\": \"Software Engineer in Test\", \"link\": \"https://neuvoo.co.in/job.php?&jpos=23&jp=2&nb=a&id=616f96c8ecab&lang=en&k=software+engineer\", \"employer\": \"Barclays \", \"address\": \"Pune, Maharashtra\", \"description\": \"Description. Job Title. SoftwareEngineer in Test. Location. Pune. Responsible for Performance test... Monitoring Profiling tools. AppDynamics. Performance Engineering. AWR analysis, GC, Heap & Thread...\", \"dateposted\": \" - 9d ago \"}',\n",
       " '{\"title\": \"Software Tools Engineer\", \"link\": \"https://neuvoo.co.in/job.php?&jpos=24&jp=2&nb=a&id=gen5wykfw4&lang=en&k=software+engineer\", \"employer\": \"CrowdStrike \", \"address\": \"Pune, Maharashtra\", \"description\": \"Job Description. This is a Software Tools Engineer role in the engineering team that delivers the sensor... The Tools Engineer owns production of installers and cloud updates of Linux sensor releases in a timely...\", \"dateposted\": \" - 28d ago \"}',\n",
       " '{\"title\": \"Software Engineer - Python/Java, NMS (4+ Years)\", \"link\": \"https://neuvoo.co.in/job.php?&jpos=25&jp=2&nb=a&id=93a843c99348&lang=en&k=software+engineer\", \"employer\": \"Cisco \", \"address\": \"Pune, Maharashtra\", \"description\": \"What You\\'ll Do. Cisco seeks a Senior Software Engineer to be a part of Cisco Managed Services Group... You will use agile methodologies and cutting edge software technologies to build a software solution...\", \"dateposted\": \" - 13d ago \"}',\n",
       " '{\"title\": \"Engineer - Embedded Software Development\", \"link\": \"https://neuvoo.co.in/job.php?&jpos=26&jp=2&nb=a&id=dxhkv7mrny&lang=en&k=software+engineer\", \"employer\": \"Emerson \", \"address\": \"Pune, Maharashtra\", \"description\": \"Job Function. Engineering. Job Posting Date. Nov 27, 2018, 4 09 33 AM Responsibilities. 1.Design and... .Familiarity with Software version control such as ClearCase and Bug tracking System such as ClearQuest...\", \"dateposted\": \" - 23d ago \"}']"
      ]
     },
     "execution_count": 6,
     "metadata": {},
     "output_type": "execute_result"
    }
   ],
   "source": [
    "res"
   ]
  },
  {
   "cell_type": "code",
   "execution_count": null,
   "metadata": {},
   "outputs": [],
   "source": []
  }
 ],
 "metadata": {
  "kernelspec": {
   "display_name": "Python 3",
   "language": "python",
   "name": "python3"
  },
  "language_info": {
   "codemirror_mode": {
    "name": "ipython",
    "version": 3
   },
   "file_extension": ".py",
   "mimetype": "text/x-python",
   "name": "python",
   "nbconvert_exporter": "python",
   "pygments_lexer": "ipython3",
   "version": "3.6.2"
  }
 },
 "nbformat": 4,
 "nbformat_minor": 2
}
